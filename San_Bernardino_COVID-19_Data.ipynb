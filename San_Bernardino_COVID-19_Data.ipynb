{
 "cells": [
  {
   "cell_type": "markdown",
   "metadata": {},
   "source": [
    "#COVID-19 Case Data (San Bernardino)\n",
    "\n",
    "Data provided by California Health and Human Services Open Data Portal: [California COVID-19 Hospital Data and Case Statistics](https://data.chhs.ca.gov/dataset/california-covid-19-hospital-data-and-case-statistics)."
   ]
  },
  {
   "cell_type": "code",
   "execution_count": 1,
   "metadata": {},
   "outputs": [
    {
     "data": {
      "text/html": [
       "<div>\n",
       "<style scoped>\n",
       "    .dataframe tbody tr th:only-of-type {\n",
       "        vertical-align: middle;\n",
       "    }\n",
       "\n",
       "    .dataframe tbody tr th {\n",
       "        vertical-align: top;\n",
       "    }\n",
       "\n",
       "    .dataframe thead th {\n",
       "        text-align: right;\n",
       "    }\n",
       "</style>\n",
       "<table border=\"1\" class=\"dataframe\">\n",
       "  <thead>\n",
       "    <tr style=\"text-align: right;\">\n",
       "      <th></th>\n",
       "      <th>County Name</th>\n",
       "      <th>Most Recent Date</th>\n",
       "      <th>Total Count Confirmed</th>\n",
       "      <th>Total Count Deaths</th>\n",
       "      <th>COVID-19 Positive Patients</th>\n",
       "      <th>Suspected COVID-19 Positive Patients</th>\n",
       "      <th>ICU COVID-19 Positive Patients</th>\n",
       "      <th>ICU COVID-19 Suspected Patients</th>\n",
       "    </tr>\n",
       "  </thead>\n",
       "  <tbody>\n",
       "    <tr>\n",
       "      <th>0</th>\n",
       "      <td>Los Angeles</td>\n",
       "      <td>4/1/2020</td>\n",
       "      <td>3502.0</td>\n",
       "      <td>66.0</td>\n",
       "      <td>739.0</td>\n",
       "      <td>1332.0</td>\n",
       "      <td>335.0</td>\n",
       "      <td>220.0</td>\n",
       "    </tr>\n",
       "    <tr>\n",
       "      <th>1</th>\n",
       "      <td>San Bernardino</td>\n",
       "      <td>4/1/2020</td>\n",
       "      <td>245.0</td>\n",
       "      <td>5.0</td>\n",
       "      <td>95.0</td>\n",
       "      <td>196.0</td>\n",
       "      <td>39.0</td>\n",
       "      <td>52.0</td>\n",
       "    </tr>\n",
       "    <tr>\n",
       "      <th>2</th>\n",
       "      <td>Orange</td>\n",
       "      <td>4/1/2020</td>\n",
       "      <td>579.0</td>\n",
       "      <td>11.0</td>\n",
       "      <td>117.0</td>\n",
       "      <td>221.0</td>\n",
       "      <td>50.0</td>\n",
       "      <td>48.0</td>\n",
       "    </tr>\n",
       "    <tr>\n",
       "      <th>3</th>\n",
       "      <td>Riverside</td>\n",
       "      <td>4/1/2020</td>\n",
       "      <td>306.0</td>\n",
       "      <td>11.0</td>\n",
       "      <td>85.0</td>\n",
       "      <td>182.0</td>\n",
       "      <td>29.0</td>\n",
       "      <td>47.0</td>\n",
       "    </tr>\n",
       "    <tr>\n",
       "      <th>4</th>\n",
       "      <td>Sacramento</td>\n",
       "      <td>4/1/2020</td>\n",
       "      <td>299.0</td>\n",
       "      <td>8.0</td>\n",
       "      <td>53.0</td>\n",
       "      <td>138.0</td>\n",
       "      <td>20.0</td>\n",
       "      <td>33.0</td>\n",
       "    </tr>\n",
       "  </tbody>\n",
       "</table>\n",
       "</div>"
      ],
      "text/plain": [
       "      County Name Most Recent Date  Total Count Confirmed  Total Count Deaths  \\\n",
       "0     Los Angeles         4/1/2020                 3502.0                66.0   \n",
       "1  San Bernardino         4/1/2020                  245.0                 5.0   \n",
       "2          Orange         4/1/2020                  579.0                11.0   \n",
       "3       Riverside         4/1/2020                  306.0                11.0   \n",
       "4      Sacramento         4/1/2020                  299.0                 8.0   \n",
       "\n",
       "   COVID-19 Positive Patients  Suspected COVID-19 Positive Patients  \\\n",
       "0                       739.0                                1332.0   \n",
       "1                        95.0                                 196.0   \n",
       "2                       117.0                                 221.0   \n",
       "3                        85.0                                 182.0   \n",
       "4                        53.0                                 138.0   \n",
       "\n",
       "   ICU COVID-19 Positive Patients  ICU COVID-19 Suspected Patients  \n",
       "0                           335.0                            220.0  \n",
       "1                            39.0                             52.0  \n",
       "2                            50.0                             48.0  \n",
       "3                            29.0                             47.0  \n",
       "4                            20.0                             33.0  "
      ]
     },
     "execution_count": 1,
     "metadata": {},
     "output_type": "execute_result"
    }
   ],
   "source": [
    "import pandas as pd\n",
    "import numpy as np\n",
    "import matplotlib.pyplot as plt\n",
    "\n",
    "df = pd.read_csv(\"covid19data.csv\")\n",
    "\n",
    "df.head(5)"
   ]
  },
  {
   "cell_type": "code",
   "execution_count": 2,
   "metadata": {},
   "outputs": [
    {
     "data": {
      "text/plain": [
       "County Name                              object\n",
       "Most Recent Date                         object\n",
       "Total Count Confirmed                   float64\n",
       "Total Count Deaths                      float64\n",
       "COVID-19 Positive Patients              float64\n",
       "Suspected COVID-19 Positive Patients    float64\n",
       "ICU COVID-19 Positive Patients          float64\n",
       "ICU COVID-19 Suspected Patients         float64\n",
       "dtype: object"
      ]
     },
     "execution_count": 2,
     "metadata": {},
     "output_type": "execute_result"
    }
   ],
   "source": [
    "df_sb = df[df['County Name'] == 'San Bernardino']\n",
    "\n",
    "#Check data types of columns.\n",
    "df_sb.dtypes"
   ]
  },
  {
   "cell_type": "code",
   "execution_count": 3,
   "metadata": {},
   "outputs": [
    {
     "name": "stderr",
     "output_type": "stream",
     "text": [
      "C:\\Users\\shoyr\\anaconda3\\lib\\site-packages\\ipykernel_launcher.py:3: SettingWithCopyWarning: \n",
      "A value is trying to be set on a copy of a slice from a DataFrame.\n",
      "Try using .loc[row_indexer,col_indexer] = value instead\n",
      "\n",
      "See the caveats in the documentation: https://pandas.pydata.org/pandas-docs/stable/user_guide/indexing.html#returning-a-view-versus-a-copy\n",
      "  This is separate from the ipykernel package so we can avoid doing imports until\n",
      "C:\\Users\\shoyr\\anaconda3\\lib\\site-packages\\ipykernel_launcher.py:4: SettingWithCopyWarning: \n",
      "A value is trying to be set on a copy of a slice from a DataFrame\n",
      "\n",
      "See the caveats in the documentation: https://pandas.pydata.org/pandas-docs/stable/user_guide/indexing.html#returning-a-view-versus-a-copy\n",
      "  after removing the cwd from sys.path.\n"
     ]
    }
   ],
   "source": [
    "#Convert date to datetime object.\n",
    "\n",
    "df_sb['Most Recent Date'] = pd.to_datetime(df_sb['Most Recent Date'])\n",
    "df_sb.sort_values(by=['Most Recent Date'], inplace=True, ascending=False)"
   ]
  },
  {
   "cell_type": "code",
   "execution_count": 4,
   "metadata": {},
   "outputs": [
    {
     "data": {
      "image/png": "[encoded data removed]",
      "text/plain": [
       "<Figure size 1008x720 with 1 Axes>"
      ]
     },
     "metadata": {
      "needs_background": "light"
     },
     "output_type": "display_data"
    }
   ],
   "source": [
    "plt.figure(figsize=(14,10))\n",
    "plt.plot(df_sb['Most Recent Date'], df_sb['Total Count Confirmed'])\n",
    "plt.xticks(rotation='vertical')\n",
    "plt.show()"
   ]
  },
  {
   "cell_type": "code",
   "execution_count": 5,
   "metadata": {},
   "outputs": [
    {
     "name": "stderr",
     "output_type": "stream",
     "text": [
      "C:\\Users\\shoyr\\anaconda3\\lib\\site-packages\\ipykernel_launcher.py:2: SettingWithCopyWarning: \n",
      "A value is trying to be set on a copy of a slice from a DataFrame.\n",
      "Try using .loc[row_indexer,col_indexer] = value instead\n",
      "\n",
      "See the caveats in the documentation: https://pandas.pydata.org/pandas-docs/stable/user_guide/indexing.html#returning-a-view-versus-a-copy\n",
      "  \n"
     ]
    },
    {
     "data": {
      "text/html": [
       "<div>\n",
       "<style scoped>\n",
       "    .dataframe tbody tr th:only-of-type {\n",
       "        vertical-align: middle;\n",
       "    }\n",
       "\n",
       "    .dataframe tbody tr th {\n",
       "        vertical-align: top;\n",
       "    }\n",
       "\n",
       "    .dataframe thead th {\n",
       "        text-align: right;\n",
       "    }\n",
       "</style>\n",
       "<table border=\"1\" class=\"dataframe\">\n",
       "  <thead>\n",
       "    <tr style=\"text-align: right;\">\n",
       "      <th></th>\n",
       "      <th>County Name</th>\n",
       "      <th>Most Recent Date</th>\n",
       "      <th>Total Count Confirmed</th>\n",
       "      <th>Total Count Deaths</th>\n",
       "      <th>COVID-19 Positive Patients</th>\n",
       "      <th>Suspected COVID-19 Positive Patients</th>\n",
       "      <th>ICU COVID-19 Positive Patients</th>\n",
       "      <th>ICU COVID-19 Suspected Patients</th>\n",
       "      <th>New Confirmed Cases</th>\n",
       "    </tr>\n",
       "  </thead>\n",
       "  <tbody>\n",
       "    <tr>\n",
       "      <th>3633</th>\n",
       "      <td>San Bernardino</td>\n",
       "      <td>2020-06-01</td>\n",
       "      <td>5310.0</td>\n",
       "      <td>204.0</td>\n",
       "      <td>148.0</td>\n",
       "      <td>69.0</td>\n",
       "      <td>62.0</td>\n",
       "      <td>17.0</td>\n",
       "      <td>125.0</td>\n",
       "    </tr>\n",
       "    <tr>\n",
       "      <th>3574</th>\n",
       "      <td>San Bernardino</td>\n",
       "      <td>2020-05-31</td>\n",
       "      <td>5185.0</td>\n",
       "      <td>204.0</td>\n",
       "      <td>136.0</td>\n",
       "      <td>73.0</td>\n",
       "      <td>53.0</td>\n",
       "      <td>10.0</td>\n",
       "      <td>63.0</td>\n",
       "    </tr>\n",
       "    <tr>\n",
       "      <th>3515</th>\n",
       "      <td>San Bernardino</td>\n",
       "      <td>2020-05-30</td>\n",
       "      <td>5122.0</td>\n",
       "      <td>204.0</td>\n",
       "      <td>130.0</td>\n",
       "      <td>95.0</td>\n",
       "      <td>52.0</td>\n",
       "      <td>12.0</td>\n",
       "      <td>139.0</td>\n",
       "    </tr>\n",
       "    <tr>\n",
       "      <th>3456</th>\n",
       "      <td>San Bernardino</td>\n",
       "      <td>2020-05-29</td>\n",
       "      <td>4983.0</td>\n",
       "      <td>199.0</td>\n",
       "      <td>134.0</td>\n",
       "      <td>95.0</td>\n",
       "      <td>50.0</td>\n",
       "      <td>13.0</td>\n",
       "      <td>152.0</td>\n",
       "    </tr>\n",
       "    <tr>\n",
       "      <th>3397</th>\n",
       "      <td>San Bernardino</td>\n",
       "      <td>2020-05-28</td>\n",
       "      <td>4831.0</td>\n",
       "      <td>190.0</td>\n",
       "      <td>156.0</td>\n",
       "      <td>87.0</td>\n",
       "      <td>53.0</td>\n",
       "      <td>17.0</td>\n",
       "      <td>123.0</td>\n",
       "    </tr>\n",
       "  </tbody>\n",
       "</table>\n",
       "</div>"
      ],
      "text/plain": [
       "         County Name Most Recent Date  Total Count Confirmed  \\\n",
       "3633  San Bernardino       2020-06-01                 5310.0   \n",
       "3574  San Bernardino       2020-05-31                 5185.0   \n",
       "3515  San Bernardino       2020-05-30                 5122.0   \n",
       "3456  San Bernardino       2020-05-29                 4983.0   \n",
       "3397  San Bernardino       2020-05-28                 4831.0   \n",
       "\n",
       "      Total Count Deaths  COVID-19 Positive Patients  \\\n",
       "3633               204.0                       148.0   \n",
       "3574               204.0                       136.0   \n",
       "3515               204.0                       130.0   \n",
       "3456               199.0                       134.0   \n",
       "3397               190.0                       156.0   \n",
       "\n",
       "      Suspected COVID-19 Positive Patients  ICU COVID-19 Positive Patients  \\\n",
       "3633                                  69.0                            62.0   \n",
       "3574                                  73.0                            53.0   \n",
       "3515                                  95.0                            52.0   \n",
       "3456                                  95.0                            50.0   \n",
       "3397                                  87.0                            53.0   \n",
       "\n",
       "      ICU COVID-19 Suspected Patients  New Confirmed Cases  \n",
       "3633                             17.0                125.0  \n",
       "3574                             10.0                 63.0  \n",
       "3515                             12.0                139.0  \n",
       "3456                             13.0                152.0  \n",
       "3397                             17.0                123.0  "
      ]
     },
     "execution_count": 5,
     "metadata": {},
     "output_type": "execute_result"
    }
   ],
   "source": [
    "# Generate column with new cases.\n",
    "\n",
    "lag = df_sb['Total Count Confirmed'].shift(-1)\n",
    "df_sb['New Confirmed Cases'] = df_sb['Total Count Confirmed'] - lag\n",
    "df_sb.head(5)\n",
    "df_su"
   ]
  }
 ],
 "metadata": {
  "kernelspec": {
   "display_name": "Python 3",
   "language": "python",
   "name": "python3"
  },
  "language_info": {
   "codemirror_mode": {
    "name": "ipython",
    "version": 3
   },
   "file_extension": ".py",
   "mimetype": "text/x-python",
   "name": "python",
   "nbconvert_exporter": "python",
   "pygments_lexer": "ipython3",
   "version": "3.7.6"
  }
 },
 "nbformat": 4,
 "nbformat_minor": 4
}
