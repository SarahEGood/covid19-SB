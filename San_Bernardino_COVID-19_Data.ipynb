{
 "cells": [
  {
   "cell_type": "markdown",
   "metadata": {},
   "source": [
    "# COVID-19 Case Data (San Bernardino)\n",
    "\n",
    "Data provided by California Health and Human Services Open Data Portal: [California COVID-19 Hospital Data and Case Statistics](https://data.chhs.ca.gov/dataset/california-covid-19-hospital-data-and-case-statistics)."
   ]
  },
  {
   "cell_type": "code",
   "execution_count": 23,
   "metadata": {},
   "outputs": [
    {
     "data": {
      "text/html": [
       "<div>\n",
       "<style scoped>\n",
       "    .dataframe tbody tr th:only-of-type {\n",
       "        vertical-align: middle;\n",
       "    }\n",
       "\n",
       "    .dataframe tbody tr th {\n",
       "        vertical-align: top;\n",
       "    }\n",
       "\n",
       "    .dataframe thead th {\n",
       "        text-align: right;\n",
       "    }\n",
       "</style>\n",
       "<table border=\"1\" class=\"dataframe\">\n",
       "  <thead>\n",
       "    <tr style=\"text-align: right;\">\n",
       "      <th></th>\n",
       "      <th>County Name</th>\n",
       "      <th>Total Count Confirmed</th>\n",
       "      <th>Total Count Deaths</th>\n",
       "      <th>COVID-19 Positive Patients</th>\n",
       "      <th>Suspected COVID-19 Positive Patients</th>\n",
       "      <th>ICU COVID-19 Positive Patients</th>\n",
       "      <th>ICU COVID-19 Suspected Patients</th>\n",
       "    </tr>\n",
       "    <tr>\n",
       "      <th>Most Recent Date</th>\n",
       "      <th></th>\n",
       "      <th></th>\n",
       "      <th></th>\n",
       "      <th></th>\n",
       "      <th></th>\n",
       "      <th></th>\n",
       "      <th></th>\n",
       "    </tr>\n",
       "  </thead>\n",
       "  <tbody>\n",
       "    <tr>\n",
       "      <th>2020-04-01</th>\n",
       "      <td>Los Angeles</td>\n",
       "      <td>3502.0</td>\n",
       "      <td>66.0</td>\n",
       "      <td>739.0</td>\n",
       "      <td>1332.0</td>\n",
       "      <td>335.0</td>\n",
       "      <td>220.0</td>\n",
       "    </tr>\n",
       "    <tr>\n",
       "      <th>2020-04-01</th>\n",
       "      <td>San Bernardino</td>\n",
       "      <td>245.0</td>\n",
       "      <td>5.0</td>\n",
       "      <td>95.0</td>\n",
       "      <td>196.0</td>\n",
       "      <td>39.0</td>\n",
       "      <td>52.0</td>\n",
       "    </tr>\n",
       "  </tbody>\n",
       "</table>\n",
       "</div>"
      ],
      "text/plain": [
       "                     County Name  Total Count Confirmed  Total Count Deaths  \\\n",
       "Most Recent Date                                                              \n",
       "2020-04-01           Los Angeles                 3502.0                66.0   \n",
       "2020-04-01        San Bernardino                  245.0                 5.0   \n",
       "\n",
       "                  COVID-19 Positive Patients  \\\n",
       "Most Recent Date                               \n",
       "2020-04-01                             739.0   \n",
       "2020-04-01                              95.0   \n",
       "\n",
       "                  Suspected COVID-19 Positive Patients  \\\n",
       "Most Recent Date                                         \n",
       "2020-04-01                                      1332.0   \n",
       "2020-04-01                                       196.0   \n",
       "\n",
       "                  ICU COVID-19 Positive Patients  \\\n",
       "Most Recent Date                                   \n",
       "2020-04-01                                 335.0   \n",
       "2020-04-01                                  39.0   \n",
       "\n",
       "                  ICU COVID-19 Suspected Patients  \n",
       "Most Recent Date                                   \n",
       "2020-04-01                                  220.0  \n",
       "2020-04-01                                   52.0  "
      ]
     },
     "execution_count": 23,
     "metadata": {},
     "output_type": "execute_result"
    }
   ],
   "source": [
    "import pandas as pd\n",
    "import numpy as np\n",
    "import matplotlib.pyplot as plt\n",
    "import seaborn as sns\n",
    "\n",
    "df = pd.read_csv(\"data/covid19data.csv\")\n",
    "\n",
    "# Make index the date column.\n",
    "df.index = pd.DatetimeIndex(df['Most Recent Date'])\n",
    "df.pop('Most Recent Date')\n",
    "\n",
    "df.head(2)"
   ]
  },
  {
   "cell_type": "code",
   "execution_count": 2,
   "metadata": {},
   "outputs": [
    {
     "data": {
      "text/plain": [
       "County Name                              object\n",
       "Most Recent Date                         object\n",
       "Total Count Confirmed                   float64\n",
       "Total Count Deaths                      float64\n",
       "COVID-19 Positive Patients              float64\n",
       "Suspected COVID-19 Positive Patients    float64\n",
       "ICU COVID-19 Positive Patients          float64\n",
       "ICU COVID-19 Suspected Patients         float64\n",
       "dtype: object"
      ]
     },
     "execution_count": 2,
     "metadata": {},
     "output_type": "execute_result"
    }
   ],
   "source": [
    "df_sb = df[df['County Name'] == 'San Bernardino']\n",
    "\n",
    "#Check data types of columns.\n",
    "df_sb.dtypes"
   ]
  },
  {
   "cell_type": "code",
   "execution_count": 3,
   "metadata": {},
   "outputs": [
    {
     "name": "stderr",
     "output_type": "stream",
     "text": [
      "C:\\Users\\shoyr\\anaconda3\\lib\\site-packages\\ipykernel_launcher.py:3: SettingWithCopyWarning: \n",
      "A value is trying to be set on a copy of a slice from a DataFrame.\n",
      "Try using .loc[row_indexer,col_indexer] = value instead\n",
      "\n",
      "See the caveats in the documentation: https://pandas.pydata.org/pandas-docs/stable/user_guide/indexing.html#returning-a-view-versus-a-copy\n",
      "  This is separate from the ipykernel package so we can avoid doing imports until\n",
      "C:\\Users\\shoyr\\anaconda3\\lib\\site-packages\\ipykernel_launcher.py:4: SettingWithCopyWarning: \n",
      "A value is trying to be set on a copy of a slice from a DataFrame\n",
      "\n",
      "See the caveats in the documentation: https://pandas.pydata.org/pandas-docs/stable/user_guide/indexing.html#returning-a-view-versus-a-copy\n",
      "  after removing the cwd from sys.path.\n"
     ]
    }
   ],
   "source": [
    "#Convert date to datetime object.\n",
    "\n",
    "df_sb['Most Recent Date'] = pd.to_datetime(df_sb['Most Recent Date'])\n",
    "df_sb.sort_values(by=['Most Recent Date'], inplace=True, ascending=False)"
   ]
  },
  {
   "cell_type": "code",
   "execution_count": 4,
   "metadata": {},
   "outputs": [
    {
     "data": {
      "image/png": "[encoded data removed]",
      "text/plain": [
       "<Figure size 1008x720 with 1 Axes>"
      ]
     },
     "metadata": {
      "needs_background": "light"
     },
     "output_type": "display_data"
    }
   ],
   "source": [
    "plt.figure(figsize=(14,10))\n",
    "plt.plot(df_sb['Most Recent Date'], df_sb['Total Count Confirmed'])\n",
    "plt.xticks(rotation='vertical')\n",
    "plt.show()"
   ]
  },
  {
   "cell_type": "code",
   "execution_count": 5,
   "metadata": {},
   "outputs": [
    {
     "name": "stderr",
     "output_type": "stream",
     "text": [
      "C:\\Users\\shoyr\\anaconda3\\lib\\site-packages\\ipykernel_launcher.py:4: SettingWithCopyWarning: \n",
      "A value is trying to be set on a copy of a slice from a DataFrame.\n",
      "Try using .loc[row_indexer,col_indexer] = value instead\n",
      "\n",
      "See the caveats in the documentation: https://pandas.pydata.org/pandas-docs/stable/user_guide/indexing.html#returning-a-view-versus-a-copy\n",
      "  after removing the cwd from sys.path.\n"
     ]
    },
    {
     "data": {
      "text/html": [
       "<div>\n",
       "<style scoped>\n",
       "    .dataframe tbody tr th:only-of-type {\n",
       "        vertical-align: middle;\n",
       "    }\n",
       "\n",
       "    .dataframe tbody tr th {\n",
       "        vertical-align: top;\n",
       "    }\n",
       "\n",
       "    .dataframe thead th {\n",
       "        text-align: right;\n",
       "    }\n",
       "</style>\n",
       "<table border=\"1\" class=\"dataframe\">\n",
       "  <thead>\n",
       "    <tr style=\"text-align: right;\">\n",
       "      <th></th>\n",
       "      <th>County Name</th>\n",
       "      <th>Most Recent Date</th>\n",
       "      <th>Total Count Confirmed</th>\n",
       "      <th>Total Count Deaths</th>\n",
       "      <th>COVID-19 Positive Patients</th>\n",
       "      <th>Suspected COVID-19 Positive Patients</th>\n",
       "      <th>ICU COVID-19 Positive Patients</th>\n",
       "      <th>ICU COVID-19 Suspected Patients</th>\n",
       "      <th>New Confirmed Cases</th>\n",
       "    </tr>\n",
       "  </thead>\n",
       "  <tbody>\n",
       "    <tr>\n",
       "      <th>3692</th>\n",
       "      <td>San Bernardino</td>\n",
       "      <td>2020-06-02</td>\n",
       "      <td>5438.0</td>\n",
       "      <td>208.0</td>\n",
       "      <td>156.0</td>\n",
       "      <td>70.0</td>\n",
       "      <td>63.0</td>\n",
       "      <td>13.0</td>\n",
       "      <td>128.0</td>\n",
       "    </tr>\n",
       "    <tr>\n",
       "      <th>3633</th>\n",
       "      <td>San Bernardino</td>\n",
       "      <td>2020-06-01</td>\n",
       "      <td>5310.0</td>\n",
       "      <td>204.0</td>\n",
       "      <td>148.0</td>\n",
       "      <td>69.0</td>\n",
       "      <td>62.0</td>\n",
       "      <td>17.0</td>\n",
       "      <td>125.0</td>\n",
       "    </tr>\n",
       "    <tr>\n",
       "      <th>3574</th>\n",
       "      <td>San Bernardino</td>\n",
       "      <td>2020-05-31</td>\n",
       "      <td>5185.0</td>\n",
       "      <td>204.0</td>\n",
       "      <td>136.0</td>\n",
       "      <td>73.0</td>\n",
       "      <td>53.0</td>\n",
       "      <td>10.0</td>\n",
       "      <td>63.0</td>\n",
       "    </tr>\n",
       "    <tr>\n",
       "      <th>3515</th>\n",
       "      <td>San Bernardino</td>\n",
       "      <td>2020-05-30</td>\n",
       "      <td>5122.0</td>\n",
       "      <td>204.0</td>\n",
       "      <td>130.0</td>\n",
       "      <td>95.0</td>\n",
       "      <td>52.0</td>\n",
       "      <td>12.0</td>\n",
       "      <td>139.0</td>\n",
       "    </tr>\n",
       "    <tr>\n",
       "      <th>3456</th>\n",
       "      <td>San Bernardino</td>\n",
       "      <td>2020-05-29</td>\n",
       "      <td>4983.0</td>\n",
       "      <td>199.0</td>\n",
       "      <td>134.0</td>\n",
       "      <td>95.0</td>\n",
       "      <td>50.0</td>\n",
       "      <td>13.0</td>\n",
       "      <td>152.0</td>\n",
       "    </tr>\n",
       "  </tbody>\n",
       "</table>\n",
       "</div>"
      ],
      "text/plain": [
       "         County Name Most Recent Date  Total Count Confirmed  \\\n",
       "3692  San Bernardino       2020-06-02                 5438.0   \n",
       "3633  San Bernardino       2020-06-01                 5310.0   \n",
       "3574  San Bernardino       2020-05-31                 5185.0   \n",
       "3515  San Bernardino       2020-05-30                 5122.0   \n",
       "3456  San Bernardino       2020-05-29                 4983.0   \n",
       "\n",
       "      Total Count Deaths  COVID-19 Positive Patients  \\\n",
       "3692               208.0                       156.0   \n",
       "3633               204.0                       148.0   \n",
       "3574               204.0                       136.0   \n",
       "3515               204.0                       130.0   \n",
       "3456               199.0                       134.0   \n",
       "\n",
       "      Suspected COVID-19 Positive Patients  ICU COVID-19 Positive Patients  \\\n",
       "3692                                  70.0                            63.0   \n",
       "3633                                  69.0                            62.0   \n",
       "3574                                  73.0                            53.0   \n",
       "3515                                  95.0                            52.0   \n",
       "3456                                  95.0                            50.0   \n",
       "\n",
       "      ICU COVID-19 Suspected Patients  New Confirmed Cases  \n",
       "3692                             13.0                128.0  \n",
       "3633                             17.0                125.0  \n",
       "3574                             10.0                 63.0  \n",
       "3515                             12.0                139.0  \n",
       "3456                             13.0                152.0  "
      ]
     },
     "execution_count": 5,
     "metadata": {},
     "output_type": "execute_result"
    }
   ],
   "source": [
    "# Generate column with new cases.\n",
    "\n",
    "lag = df_sb['Total Count Confirmed'].shift(-1)\n",
    "df_sb['New Confirmed Cases'] = df_sb['Total Count Confirmed'] - lag\n",
    "df_sb.head(5)"
   ]
  },
  {
   "cell_type": "code",
   "execution_count": 20,
   "metadata": {},
   "outputs": [
    {
     "name": "stderr",
     "output_type": "stream",
     "text": [
      "C:\\Users\\shoyr\\anaconda3\\lib\\site-packages\\ipykernel_launcher.py:1: SettingWithCopyWarning: \n",
      "A value is trying to be set on a copy of a slice from a DataFrame.\n",
      "Try using .loc[row_indexer,col_indexer] = value instead\n",
      "\n",
      "See the caveats in the documentation: https://pandas.pydata.org/pandas-docs/stable/user_guide/indexing.html#returning-a-view-versus-a-copy\n",
      "  \"\"\"Entry point for launching an IPython kernel.\n"
     ]
    },
    {
     "ename": "NameError",
     "evalue": "name 'date' is not defined",
     "output_type": "error",
     "traceback": [
      "\u001b[1;31m---------------------------------------------------------------------------\u001b[0m",
      "\u001b[1;31mNameError\u001b[0m                                 Traceback (most recent call last)",
      "\u001b[1;32m<ipython-input-20-50d210c7d8e2>\u001b[0m in \u001b[0;36m<module>\u001b[1;34m\u001b[0m\n\u001b[0;32m      7\u001b[0m \u001b[1;33m\u001b[0m\u001b[0m\n\u001b[0;32m      8\u001b[0m \u001b[0max\u001b[0m\u001b[1;33m.\u001b[0m\u001b[0mset_xlabel\u001b[0m\u001b[1;33m(\u001b[0m\u001b[1;34m'Date'\u001b[0m\u001b[1;33m)\u001b[0m\u001b[1;33m\u001b[0m\u001b[1;33m\u001b[0m\u001b[0m\n\u001b[1;32m----> 9\u001b[1;33m \u001b[0mnew_labels\u001b[0m \u001b[1;33m=\u001b[0m \u001b[1;33m[\u001b[0m\u001b[0mdate\u001b[0m\u001b[1;33m.\u001b[0m\u001b[0mfromordinal\u001b[0m\u001b[1;33m(\u001b[0m\u001b[0mint\u001b[0m\u001b[1;33m(\u001b[0m\u001b[0mitem\u001b[0m\u001b[1;33m)\u001b[0m\u001b[1;33m)\u001b[0m \u001b[1;32mfor\u001b[0m \u001b[0mitem\u001b[0m \u001b[1;32min\u001b[0m \u001b[0max\u001b[0m\u001b[1;33m.\u001b[0m\u001b[0mget_xticks\u001b[0m\u001b[1;33m(\u001b[0m\u001b[1;33m)\u001b[0m\u001b[1;33m]\u001b[0m\u001b[1;33m\u001b[0m\u001b[1;33m\u001b[0m\u001b[0m\n\u001b[0m\u001b[0;32m     10\u001b[0m \u001b[0max\u001b[0m\u001b[1;33m.\u001b[0m\u001b[0mset_xticklabels\u001b[0m\u001b[1;33m(\u001b[0m\u001b[0mnew_labels\u001b[0m\u001b[1;33m)\u001b[0m\u001b[1;33m\u001b[0m\u001b[1;33m\u001b[0m\u001b[0m\n",
      "\u001b[1;32m<ipython-input-20-50d210c7d8e2>\u001b[0m in \u001b[0;36m<listcomp>\u001b[1;34m(.0)\u001b[0m\n\u001b[0;32m      7\u001b[0m \u001b[1;33m\u001b[0m\u001b[0m\n\u001b[0;32m      8\u001b[0m \u001b[0max\u001b[0m\u001b[1;33m.\u001b[0m\u001b[0mset_xlabel\u001b[0m\u001b[1;33m(\u001b[0m\u001b[1;34m'Date'\u001b[0m\u001b[1;33m)\u001b[0m\u001b[1;33m\u001b[0m\u001b[1;33m\u001b[0m\u001b[0m\n\u001b[1;32m----> 9\u001b[1;33m \u001b[0mnew_labels\u001b[0m \u001b[1;33m=\u001b[0m \u001b[1;33m[\u001b[0m\u001b[0mdate\u001b[0m\u001b[1;33m.\u001b[0m\u001b[0mfromordinal\u001b[0m\u001b[1;33m(\u001b[0m\u001b[0mint\u001b[0m\u001b[1;33m(\u001b[0m\u001b[0mitem\u001b[0m\u001b[1;33m)\u001b[0m\u001b[1;33m)\u001b[0m \u001b[1;32mfor\u001b[0m \u001b[0mitem\u001b[0m \u001b[1;32min\u001b[0m \u001b[0max\u001b[0m\u001b[1;33m.\u001b[0m\u001b[0mget_xticks\u001b[0m\u001b[1;33m(\u001b[0m\u001b[1;33m)\u001b[0m\u001b[1;33m]\u001b[0m\u001b[1;33m\u001b[0m\u001b[1;33m\u001b[0m\u001b[0m\n\u001b[0m\u001b[0;32m     10\u001b[0m \u001b[0max\u001b[0m\u001b[1;33m.\u001b[0m\u001b[0mset_xticklabels\u001b[0m\u001b[1;33m(\u001b[0m\u001b[0mnew_labels\u001b[0m\u001b[1;33m)\u001b[0m\u001b[1;33m\u001b[0m\u001b[1;33m\u001b[0m\u001b[0m\n",
      "\u001b[1;31mNameError\u001b[0m: name 'date' is not defined"
     ]
    },
    {
     "data": {
      "image/png": "[encoded data removed]",
      "text/plain": [
       "<Figure size 432x288 with 1 Axes>"
      ]
     },
     "metadata": {},
     "output_type": "display_data"
    }
   ],
   "source": [
    "df_sb['date_ordinal'] = pd.to_datetime(df_sb['Most Recent Date']).apply(lambda date: date.toordinal())\n",
    "\n",
    "ax = sns.regplot(data=df_sb, x='date_ordinal', y='New Confirmed Cases')\n",
    "\n",
    "ax.set_xlim(df_sb['date_ordinal'].min() - 1, df_sb['date_ordinal'].max() + 5)\n",
    "ax.set_ylim(0, df_sb['New Confirmed Cases'].max() + 1)\n",
    "\n",
    "# Replace ordinal X-axis labels with regular dates.\n",
    "ax.set_xlabel('Date')\n",
    "new_labels = [date.fromordinal(int(item)) for item in ax.get_xticks()]\n",
    "ax.set_xticklabels(new_labels)"
   ]
  }
 ],
 "metadata": {
  "kernelspec": {
   "display_name": "Python 3",
   "language": "python",
   "name": "python3"
  },
  "language_info": {
   "codemirror_mode": {
    "name": "ipython",
    "version": 3
   },
   "file_extension": ".py",
   "mimetype": "text/x-python",
   "name": "python",
   "nbconvert_exporter": "python",
   "pygments_lexer": "ipython3",
   "version": "3.7.6"
  }
 },
 "nbformat": 4,
 "nbformat_minor": 4
}
