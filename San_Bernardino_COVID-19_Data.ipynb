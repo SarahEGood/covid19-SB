{
 "cells": [
  {
   "cell_type": "markdown",
   "metadata": {},
   "source": [
    "# COVID-19 Case Data (San Bernardino)\n",
    "\n",
    "**Updated: 6/16/2020**\n",
    "\n",
    "Data provided by California Health and Human Services Open Data Portal: [California COVID-19 Hospital Data and Case Statistics](https://data.chhs.ca.gov/dataset/california-covid-19-hospital-data-and-case-statistics).\n",
    "\n",
    "## Rationale\n",
    "I'm a resident of San Bernardino County and have been receiving COVID-19 updates from [the county's email newsletter](https://wp.sbcounty.gov/cao/countywire/) regarding the pandemic. Typically, the newsletter will display increases in confirmed COVID cases and deaths as percentage increases from the previous day. I thought this might be pretty deceiving since the percentages would need to decrease overtime to show a decrease in spread, whereas a constant percentage would mean the disease would still be killing and spreading at an exponential rate. So, I decided to dive into the data myself.\n",
    "\n",
    "**Note:** The COVID-19 pandemic is an ongoing situation, so our analysis is likely to change overtime.\n",
    "\n",
    "## Exploring the Data\n",
    "So before we can do any serious analysis, let's look at the first few columns of our data."
   ]
  },
  {
   "cell_type": "code",
   "execution_count": 1,
   "metadata": {},
   "outputs": [
    {
     "data": {
      "text/html": [
       "<div>\n",
       "<style scoped>\n",
       "    .dataframe tbody tr th:only-of-type {\n",
       "        vertical-align: middle;\n",
       "    }\n",
       "\n",
       "    .dataframe tbody tr th {\n",
       "        vertical-align: top;\n",
       "    }\n",
       "\n",
       "    .dataframe thead th {\n",
       "        text-align: right;\n",
       "    }\n",
       "</style>\n",
       "<table border=\"1\" class=\"dataframe\">\n",
       "  <thead>\n",
       "    <tr style=\"text-align: right;\">\n",
       "      <th></th>\n",
       "      <th>County Name</th>\n",
       "      <th>Most Recent Date</th>\n",
       "      <th>Total Count Confirmed</th>\n",
       "      <th>Total Count Deaths</th>\n",
       "      <th>COVID-19 Positive Patients</th>\n",
       "      <th>Suspected COVID-19 Positive Patients</th>\n",
       "      <th>ICU COVID-19 Positive Patients</th>\n",
       "      <th>ICU COVID-19 Suspected Patients</th>\n",
       "    </tr>\n",
       "  </thead>\n",
       "  <tbody>\n",
       "    <tr>\n",
       "      <th>0</th>\n",
       "      <td>Los Angeles</td>\n",
       "      <td>4/1/2020</td>\n",
       "      <td>3502.0</td>\n",
       "      <td>66.0</td>\n",
       "      <td>739.0</td>\n",
       "      <td>1332.0</td>\n",
       "      <td>335.0</td>\n",
       "      <td>220.0</td>\n",
       "    </tr>\n",
       "    <tr>\n",
       "      <th>1</th>\n",
       "      <td>San Bernardino</td>\n",
       "      <td>4/1/2020</td>\n",
       "      <td>245.0</td>\n",
       "      <td>5.0</td>\n",
       "      <td>95.0</td>\n",
       "      <td>196.0</td>\n",
       "      <td>39.0</td>\n",
       "      <td>52.0</td>\n",
       "    </tr>\n",
       "    <tr>\n",
       "      <th>2</th>\n",
       "      <td>Orange</td>\n",
       "      <td>4/1/2020</td>\n",
       "      <td>579.0</td>\n",
       "      <td>11.0</td>\n",
       "      <td>117.0</td>\n",
       "      <td>221.0</td>\n",
       "      <td>50.0</td>\n",
       "      <td>48.0</td>\n",
       "    </tr>\n",
       "    <tr>\n",
       "      <th>3</th>\n",
       "      <td>Riverside</td>\n",
       "      <td>4/1/2020</td>\n",
       "      <td>306.0</td>\n",
       "      <td>11.0</td>\n",
       "      <td>85.0</td>\n",
       "      <td>182.0</td>\n",
       "      <td>29.0</td>\n",
       "      <td>47.0</td>\n",
       "    </tr>\n",
       "    <tr>\n",
       "      <th>4</th>\n",
       "      <td>Sacramento</td>\n",
       "      <td>4/1/2020</td>\n",
       "      <td>299.0</td>\n",
       "      <td>8.0</td>\n",
       "      <td>53.0</td>\n",
       "      <td>138.0</td>\n",
       "      <td>20.0</td>\n",
       "      <td>33.0</td>\n",
       "    </tr>\n",
       "  </tbody>\n",
       "</table>\n",
       "</div>"
      ],
      "text/plain": [
       "      County Name Most Recent Date  Total Count Confirmed  Total Count Deaths  \\\n",
       "0     Los Angeles         4/1/2020                 3502.0                66.0   \n",
       "1  San Bernardino         4/1/2020                  245.0                 5.0   \n",
       "2          Orange         4/1/2020                  579.0                11.0   \n",
       "3       Riverside         4/1/2020                  306.0                11.0   \n",
       "4      Sacramento         4/1/2020                  299.0                 8.0   \n",
       "\n",
       "   COVID-19 Positive Patients  Suspected COVID-19 Positive Patients  \\\n",
       "0                       739.0                                1332.0   \n",
       "1                        95.0                                 196.0   \n",
       "2                       117.0                                 221.0   \n",
       "3                        85.0                                 182.0   \n",
       "4                        53.0                                 138.0   \n",
       "\n",
       "   ICU COVID-19 Positive Patients  ICU COVID-19 Suspected Patients  \n",
       "0                           335.0                            220.0  \n",
       "1                            39.0                             52.0  \n",
       "2                            50.0                             48.0  \n",
       "3                            29.0                             47.0  \n",
       "4                            20.0                             33.0  "
      ]
     },
     "execution_count": 1,
     "metadata": {},
     "output_type": "execute_result"
    }
   ],
   "source": [
    "# Import relevant packages\n",
    "import pandas as pd\n",
    "import numpy as np\n",
    "import matplotlib.pyplot as plt\n",
    "import seaborn as sns\n",
    "import scipy.stats as stats\n",
    "from scipy.optimize import curve_fit\n",
    "import datetime as dt\n",
    "\n",
    "# Explore the data\n",
    "df = pd.read_csv(\"data/covid19data.csv\")\n",
    "df.head(5)"
   ]
  },
  {
   "cell_type": "markdown",
   "metadata": {},
   "source": [
    "Since we only care about the San Bernardino data, we'll go ahead and create a new dataframe containing only the relavent columns"
   ]
  },
  {
   "cell_type": "code",
   "execution_count": 2,
   "metadata": {},
   "outputs": [
    {
     "name": "stdout",
     "output_type": "stream",
     "text": [
      "        County Name Most Recent Date  Total Count Confirmed  \\\n",
      "1    San Bernardino         4/1/2020                  245.0   \n",
      "93   San Bernardino         4/2/2020                  335.0   \n",
      "152  San Bernardino         4/3/2020                  356.0   \n",
      "211  San Bernardino         4/4/2020                  373.0   \n",
      "270  San Bernardino         4/5/2020                  375.0   \n",
      "\n",
      "     Total Count Deaths  COVID-19 Positive Patients  \\\n",
      "1                   5.0                        95.0   \n",
      "93                  8.0                       126.0   \n",
      "152                11.0                       118.0   \n",
      "211                13.0                       138.0   \n",
      "270                13.0                       146.0   \n",
      "\n",
      "     Suspected COVID-19 Positive Patients  ICU COVID-19 Positive Patients  \\\n",
      "1                                   196.0                            39.0   \n",
      "93                                  185.0                            50.0   \n",
      "152                                 204.0                            44.0   \n",
      "211                                 254.0                            51.0   \n",
      "270                                 240.0                            59.0   \n",
      "\n",
      "     ICU COVID-19 Suspected Patients  \n",
      "1                               52.0  \n",
      "93                              45.0  \n",
      "152                             53.0  \n",
      "211                             66.0  \n",
      "270                             54.0  \n",
      "County Name                              object\n",
      "Most Recent Date                         object\n",
      "Total Count Confirmed                   float64\n",
      "Total Count Deaths                      float64\n",
      "COVID-19 Positive Patients              float64\n",
      "Suspected COVID-19 Positive Patients    float64\n",
      "ICU COVID-19 Positive Patients          float64\n",
      "ICU COVID-19 Suspected Patients         float64\n",
      "dtype: object\n"
     ]
    }
   ],
   "source": [
    "# Only include columns where the county name is San Bernardino.\n",
    "df_sb = df[df['County Name'] == 'San Bernardino']\n",
    "\n",
    "# Check first columns\n",
    "print(df_sb.head(5))\n",
    "# Check data types of columns.\n",
    "print(df_sb.dtypes)"
   ]
  },
  {
   "cell_type": "markdown",
   "metadata": {},
   "source": [
    "Conveniently, the data has one entry per date. However, the date column is a) not easy to iterate on as is and b) would cause issues if just converted straight to a date_time object. Instead, we'll convert our date column to date ordinal form since that puts the dates into the form of integers."
   ]
  },
  {
   "cell_type": "code",
   "execution_count": 3,
   "metadata": {},
   "outputs": [
    {
     "name": "stderr",
     "output_type": "stream",
     "text": [
      "C:\\Users\\shoyr\\anaconda3\\lib\\site-packages\\ipykernel_launcher.py:2: SettingWithCopyWarning: \n",
      "A value is trying to be set on a copy of a slice from a DataFrame.\n",
      "Try using .loc[row_indexer,col_indexer] = value instead\n",
      "\n",
      "See the caveats in the documentation: https://pandas.pydata.org/pandas-docs/stable/user_guide/indexing.html#returning-a-view-versus-a-copy\n",
      "  \n"
     ]
    }
   ],
   "source": [
    "# Convert to dates to ordinal to avoid errors with datetime objects\n",
    "df_sb['date_ordinal'] = pd.to_datetime(df['Most Recent Date']).apply(lambda date: date.toordinal())"
   ]
  },
  {
   "cell_type": "markdown",
   "metadata": {},
   "source": [
    "## Significant Dates\n",
    "Before we plot the dates against COVID cases, I'd like to also display certain events during the pandemic to see if we can see if there's any obvious differences in the data before and after certain events, such when certain businesses were allowed to reopen. I've written the list in such a way that it will be relatively easy to add future events later."
   ]
  },
  {
   "cell_type": "code",
   "execution_count": 4,
   "metadata": {},
   "outputs": [],
   "source": [
    "# Significant dates to be added to graphs\n",
    "sig_dates = [[dt.date(2020, 5, 23), \"Dine-in restaruants open\"],\n",
    "            [dt.date(2020, 5, 26), \"Places of worship, hair salons open\"],\n",
    "            [dt.date(2020, 5, 11), \"Testing expanded to any resident who wants one\"],\n",
    "            [dt.date(2020, 3, 15), \"First recorded case\"],\n",
    "            [dt.date(2020, 4, 10), \"County Expands Drive-up Testing\"],\n",
    "            [dt.date(2020, 5, 8), \"Beginning of Phase 2\"],\n",
    "            [dt.date(2020, 6, 12), \"Gyms reopen\"]]\n",
    "\n",
    "# Convert dates to ordinal format to match our graphs\n",
    "for entry in sig_dates:\n",
    "    entry[0] = entry[0].toordinal()\n",
    "    \n",
    "# Write reusable function to add these dates to any graph.\n",
    "def add_sig_dates(dataframe, y_column):\n",
    "    '''Adds the sig_dates values to graphs plotting time against other variables.\n",
    "    Parameters:\n",
    "    dataframe: Name of dataframe\n",
    "    y_column: str, name of the y column with the maximum value (if there are more than 2 y columns)\n",
    "    \n",
    "    Objects in function:\n",
    "    i: 30% size of the max value of y_column\n",
    "    '''\n",
    "    i = dataframe[y_column].max()*0.3\n",
    "    for entry in sorted(sig_dates):\n",
    "        plt.annotate(entry[1], xy=(entry[0], 0),\n",
    "                 xytext=(entry[0], -30-i),\n",
    "                 arrowprops=dict(facecolor='darkturquoise', shrink=0.05, alpha=0.3))\n",
    "        if i <= 0:\n",
    "            i = dataframe[y_column].max()*0.25\n",
    "        else:\n",
    "            i -= dataframe[y_column].max()*0.25/7"
   ]
  },
  {
   "cell_type": "markdown",
   "metadata": {},
   "source": [
    "## Time vs. Total Cases\n",
    "First, let's plot our new 'date_ordinal' column against 'Total Count Confirmed' and 'Total Count Deaths' column. We'll also include the least squares regression line and a fitted exponential curve. The dates we just added above can easily be added to this graph too."
   ]
  },
  {
   "cell_type": "code",
   "execution_count": null,
   "metadata": {},
   "outputs": [],
   "source": [
    "#Plot scatter plot for total case count\n",
    "x = df_sb['date_ordinal']\n",
    "y1 = df_sb['Total Count Confirmed']\n",
    "y2 = df_sb['Total Count Deaths']\n",
    "\n",
    "plt.figure(figsize=(14,10))\n",
    "ax = plt.subplot(1,1,1)\n",
    "\n",
    "# Plot scatter plot along with linear regression line\n",
    "sns.regplot(x='date_ordinal', y='Total Count Confirmed', data=df_sb)\n",
    "\n",
    "# Formatting axes\n",
    "ax.set_xlim(x.min() - 1, x.max() + 10)\n",
    "ax.set_ylim(0, y1.max() + 1)\n",
    "ax.set_xlabel('Date')\n",
    "\n",
    "labels = [dt.date.fromordinal(int(item)) for item in ax.get_xticks()]\n",
    "ax.set_xticklabels(labels)\n",
    "plt.xticks(rotation = 45)\n",
    "plt.ylabel(\"Total Confirmed Cases\")\n",
    "\n",
    "# Exponential Curve\n",
    "def exponential_func(x, a, b, c):\n",
    "    return a*np.exp(-b*x)+c\n",
    "\n",
    "popt, pcov = curve_fit(exponential_func, x, y1, p0=(1, 1e-6, 1), maxfev=1000000000) \n",
    "plt.plot(x, exponential_func(x, *popt), color='orange')\n",
    "plt.legend(['Total Cases (Linear)', 'Total Cases (Exponential)'])\n",
    "\n",
    "# Inserting Significant Date Labels\n",
    "add_sig_dates(df_sb, 'Total Count Confirmed')\n",
    "\n",
    "plt.show()"
   ]
  },
  {
   "cell_type": "markdown",
   "metadata": {},
   "source": [
    "This graph seems to be relatively linear. However, note that there is a slight curve in the scatter plot. However, we don't seem to have enough of a curve to make this visible in our exponential model above, meaning it overlaps with our linear regression line.\n",
    "\n",
    "## Time vs. Total Deaths\n",
    "Now let's do a similar comparison with the death count."
   ]
  },
  {
   "cell_type": "code",
   "execution_count": null,
   "metadata": {},
   "outputs": [],
   "source": [
    "plt.figure(figsize=(14,10))\n",
    "ax = plt.subplot(1,1,1)\n",
    "\n",
    "sns.regplot(x='date_ordinal',y='Total Count Deaths', data=df_sb, color='red')\n",
    "\n",
    "# Formatting axes\n",
    "ax.set_xlim(x.min() - 1, x.max() + 10)\n",
    "ax.set_ylim(0, y2.max() + 1)\n",
    "ax.set_xlabel('Date')\n",
    "\n",
    "labels = [dt.date.fromordinal(int(item)) for item in ax.get_xticks()]\n",
    "ax.set_xticklabels(labels)\n",
    "plt.xticks(rotation = 45)\n",
    "plt.ylabel(\"Total Deaths\")\n",
    "\n",
    "# Inserting Significant Date Labels\n",
    "add_sig_dates(df_sb, 'Total Count Deaths')\n",
    "\n",
    "plt.show()"
   ]
  },
  {
   "cell_type": "markdown",
   "metadata": {},
   "source": [
    "Like our previous graph, there appears to be a mostly linear relationship between time and total deaths. While there seems to be a slight \"dip\" in the scatter plot, it isn't as pronounced as it is in the total cases graph.\n",
    "## New cases and Deaths per Day\n",
    "\n",
    "It may be easier to see how the outbreak in San Bernardino County is progressing through comparing new cases and new deaths per day. Essentially, if the new cases per day is increasing, the spread of the virus is accelerating and vicaversa. Note that I'm speaking in generalities and there may be other factors influencing the data."
   ]
  },
  {
   "cell_type": "code",
   "execution_count": null,
   "metadata": {},
   "outputs": [],
   "source": [
    "# Generate column with new cases and new deaths.\n",
    "lag = df_sb[['Total Count Confirmed', 'Total Count Deaths']].shift(1)\n",
    "df_sb['New Confirmed Cases'] = df_sb['Total Count Confirmed'] - lag['Total Count Confirmed']\n",
    "df_sb['New Deaths'] = df_sb['Total Count Deaths'] - lag['Total Count Deaths']\n",
    "df_sb.head(5)"
   ]
  },
  {
   "cell_type": "markdown",
   "metadata": {},
   "source": [
    "A quick check of the data shows our new columns are indeed the differences between each entry for confirmed cases and confirmed deaths.\n",
    "## New cases per Day\n",
    "Now let's plot our new cases column against time."
   ]
  },
  {
   "cell_type": "code",
   "execution_count": null,
   "metadata": {},
   "outputs": [],
   "source": [
    "# Plotting new cases per day\n",
    "plt.figure(figsize=(14,10))\n",
    "ax = sns.regplot(data=df_sb, x='date_ordinal', y='New Confirmed Cases')\n",
    "\n",
    "# Formatting\n",
    "ax.set_xlim(df_sb['date_ordinal'].min() - 1, df_sb['date_ordinal'].max() + 1)\n",
    "ax.set_ylim(0, df_sb['New Confirmed Cases'].max() + 1)\n",
    "\n",
    "# Set axis labels\n",
    "ax.set_xlabel('Date')\n",
    "new_labels = [dt.date.fromordinal(int(item)) for item in ax.get_xticks()]\n",
    "ax.set_xticklabels(new_labels)\n",
    "plt.xticks(rotation = 45)\n",
    "plt.ylabel(\"New Confirmed Cases (per day)\")\n",
    "\n",
    "# Inserting Significant Date Labels\n",
    "add_sig_dates(df_sb, 'New Confirmed Cases')\n",
    "\n",
    "plt.show()"
   ]
  },
  {
   "cell_type": "markdown",
   "metadata": {},
   "source": [
    "The data suggests a (somewhat tenuous) upward trend in confirmed cases per day in SB county over time. Therefore, the spread of the virus seems to be accelerating by looking at this graph. However, we must not forget that earlier in the pandemic, tests were much scarcer and reserved for those who were at risk and/or likely to have contracted the disease. Therefore, some of the increase may be due to more people being tested than before. More on this later.\n",
    "\n",
    "Also, notice that the *trend* is upward. It's actually difficult to predict the exact number of confirmed cases per day given the amount of variability in the data.\n",
    "## New Deaths per Day\n",
    "Now let's do the same for deaths"
   ]
  },
  {
   "cell_type": "code",
   "execution_count": null,
   "metadata": {},
   "outputs": [],
   "source": [
    "# Plotting new deaths per day\n",
    "plt.figure(figsize=(14,10))\n",
    "ax = sns.regplot(data=df_sb, x='date_ordinal', y='New Deaths')\n",
    "\n",
    "# Formatting\n",
    "ax.set_xlim(df_sb['date_ordinal'].min() - 1, df_sb['date_ordinal'].max() + 1)\n",
    "ax.set_ylim(0, df_sb['New Deaths'].max() + 1)\n",
    "\n",
    "# Set axis labels\n",
    "ax.set_xlabel('Date')\n",
    "new_labels = [dt.date.fromordinal(int(item)) for item in ax.get_xticks()]\n",
    "ax.set_xticklabels(new_labels)\n",
    "plt.xticks(rotation = 45)\n",
    "plt.ylabel(\"COVID-19 Confirmed Deaths (per day)\")\n",
    "\n",
    "# Inserting Significant Date Labels\n",
    "# Modified the earlier date insert function to accomodate the smaller values\n",
    "def smaller_dates(dataframe, y_column):\n",
    "    i = dataframe[y_column].max()*0.05\n",
    "    for entry in sorted(sig_dates):\n",
    "        plt.annotate(entry[1], xy=(entry[0], 0),\n",
    "                 xytext=(entry[0], -5-i),\n",
    "                 arrowprops=dict(facecolor='darkturquoise', shrink=0.05, alpha=0.3))\n",
    "        if i <= 0:\n",
    "            i = dataframe[y_column].max()*0.15\n",
    "        else:\n",
    "            i -= dataframe[y_column].max()*0.15/7\n",
    "\n",
    "smaller_dates(df_sb, 'New Deaths')\n",
    "                \n",
    "plt.show()"
   ]
  },
  {
   "cell_type": "markdown",
   "metadata": {},
   "source": [
    "There currently appears to be a vaguely decreasing relationship between time and new deaths per day. This is interesting since, the number of confirmed COVID-related deaths is not. This may be because increasing testing availability has allowed people with less serious cases to confirm that they have been infected with COVID while deaths are often harder (but not impossible) to miss."
   ]
  },
  {
   "cell_type": "code",
   "execution_count": null,
   "metadata": {},
   "outputs": [],
   "source": [
    "# We will calculate pearson correlation coefficients on all columns to see if there are other relationships we'd like to investigate.\n",
    "pearsoncorr = df_sb.corr(method='pearson')\n",
    "pearsoncorr"
   ]
  },
  {
   "cell_type": "markdown",
   "metadata": {},
   "source": [
    "Unsuprisingly, we have a strong positive relationship between the total confirmed cases and time. The same can be said for time and the death count. This makes sense since the data points from the first graph almost follow a line.\n",
    "\n",
    "There is a moderate, positive correlation between time and new cases per day since the pearson correlation coefficient is around 0.5 for these two variables. As expected, there is almost 0 correlation between time and new deaths, meaning there's currently no relationship betwee time and number of deaths per day. Hopefully, this does not change to a positive (increasing) correlation as the pandemic continues."
   ]
  },
  {
   "cell_type": "markdown",
   "metadata": {},
   "source": [
    "## Case counts after testing expansion\n",
    "As stated earlier, another thing we need to consider is if testing is part of the reason the confirmed cases are rising. After all, San Bernardino County (and the rest of the US for that matter) were short on COVID tests in the early days of the pandemic. Let's slice the data from the day testing got expanded to everyone and see if the increase in confirmed cases still exists."
   ]
  },
  {
   "cell_type": "code",
   "execution_count": null,
   "metadata": {},
   "outputs": [],
   "source": [
    "# Slicing our data\n",
    "df_sbt = df_sb[df_sb['date_ordinal'] >= dt.date(2020, 5, 11).toordinal()]\n",
    "\n",
    "# Plotting new cases per day\n",
    "plt.figure(figsize=(14,10))\n",
    "ax = sns.regplot(data=df_sbt, x='date_ordinal', y='New Confirmed Cases')\n",
    "\n",
    "# Formatting\n",
    "ax.set_xlim(df_sbt['date_ordinal'].min() - 1, df_sbt['date_ordinal'].max() + 1)\n",
    "ax.set_ylim(0, df_sbt['New Confirmed Cases'].max() + 1)\n",
    "\n",
    "# Set axis labels\n",
    "ax.set_xlabel('Date')\n",
    "new_labels = [dt.date.fromordinal(int(item)) for item in ax.get_xticks()]\n",
    "ax.set_xticklabels(new_labels)\n",
    "plt.xticks(rotation = 45)\n",
    "plt.ylabel(\"New Confirmed Cases (per day)\")\n",
    "\n",
    "plt.show()"
   ]
  },
  {
   "cell_type": "markdown",
   "metadata": {},
   "source": [
    "There appears to be a shallow but positive linear relationship between time and new cases. This shows that the confirmed cases are still increasing even after only accounting for data after testing was extended to all residents. However, the exact number of confirmed cases per day is highly variable, hence the large error shown in the regression line."
   ]
  },
  {
   "cell_type": "code",
   "execution_count": null,
   "metadata": {},
   "outputs": [],
   "source": [
    "pearsoncorr = df_sbt.corr(method='pearson')\n",
    "pearsoncorr"
   ]
  },
  {
   "cell_type": "markdown",
   "metadata": {},
   "source": [
    "When we limit our data to dates after testing was expanded to all interested citizens, the positive (increasing) relationship between time and new confirmed cases is lower (with the pearson correlation coeffiecent at about 0.41). However, part of the reason this correlation is so low is because we just shrunk our data set by about half the size it was before (as of June 8th). It will be interesting to see if this correlation changes overtime."
   ]
  },
  {
   "cell_type": "markdown",
   "metadata": {},
   "source": [
    "As we saw in the earlier pearson table, there does seem to be a strong-to-medium negative relationship between suspected COVID-19 hospital patients (both ICU and in general) and time. Let's investigate that."
   ]
  },
  {
   "cell_type": "markdown",
   "metadata": {},
   "source": [
    "## Suspected Cases per Day"
   ]
  },
  {
   "cell_type": "code",
   "execution_count": null,
   "metadata": {},
   "outputs": [],
   "source": [
    "# Initialize plot\n",
    "plt.figure(figsize=(10,8))\n",
    "ax = plt.subplot()\n",
    "\n",
    "# Plot suspected COVID cases\n",
    "plt.plot(df_sb['date_ordinal'], df_sb['Suspected COVID-19 Positive Patients'], color='blue')\n",
    "plt.plot(df_sb['date_ordinal'], df_sb['ICU COVID-19 Suspected Patients'], color='red')\n",
    "\n",
    "# Formatting\n",
    "ax.set_xlim(df_sb['date_ordinal'].min() - 1, df_sb['date_ordinal'].max() + 1)\n",
    "\n",
    "# Make x-tick labels\n",
    "x_ticks = []\n",
    "i = 0\n",
    "for item in df_sb['date_ordinal']:\n",
    "    if i % 10 == 0:\n",
    "        x_ticks.append(item)\n",
    "    i += 1\n",
    "\n",
    "ax.set_xticks(x_ticks)\n",
    "new_labels = [dt.date.fromordinal(int(item)) for item in ax.get_xticks()]\n",
    "\n",
    "ax.set_xticklabels(new_labels, rotation=60)\n",
    "\n",
    "# Inserting Significant Date Labels\n",
    "add_sig_dates(df_sb, 'Suspected COVID-19 Positive Patients')\n",
    "\n",
    "plt.legend(['Suspected COVID-19 Positive Patients', 'ICU COVID-19 Suspected Patients'])\n",
    "plt.show()"
   ]
  },
  {
   "cell_type": "markdown",
   "metadata": {},
   "source": [
    "It appears this decrease may be due to the increase in test availability overtime, especially since we know tests were in short supply during the earlier days of the pandemic. Indeed, the correlation disappears if we limit the data set to after tests became more widely available."
   ]
  }
 ],
 "metadata": {
  "kernelspec": {
   "display_name": "Python 3",
   "language": "python",
   "name": "python3"
  },
  "language_info": {
   "codemirror_mode": {
    "name": "ipython",
    "version": 3
   },
   "file_extension": ".py",
   "mimetype": "text/x-python",
   "name": "python",
   "nbconvert_exporter": "python",
   "pygments_lexer": "ipython3",
   "version": "3.7.6"
  }
 },
 "nbformat": 4,
 "nbformat_minor": 4
}
