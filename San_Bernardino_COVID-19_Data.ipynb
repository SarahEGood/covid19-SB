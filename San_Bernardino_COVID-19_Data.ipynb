{
 "cells": [
  {
   "cell_type": "markdown",
   "metadata": {},
   "source": [
    "# COVID-19 Case Data (San Bernardino)\n",
    "\n",
    "Data provided by California Health and Human Services Open Data Portal: [California COVID-19 Hospital Data and Case Statistics](https://data.chhs.ca.gov/dataset/california-covid-19-hospital-data-and-case-statistics)."
   ]
  },
  {
   "cell_type": "code",
   "execution_count": null,
   "metadata": {},
   "outputs": [],
   "source": [
    "import pandas as pd\n",
    "import numpy as np\n",
    "import matplotlib.pyplot as plt\n",
    "import seaborn as sns\n",
    "from scipy.optimize import curve_fit\n",
    "import datetime as dt\n",
    "\n",
    "df = pd.read_csv(\"data/covid19data.csv\")\n"
   ]
  },
  {
   "cell_type": "code",
   "execution_count": null,
   "metadata": {},
   "outputs": [],
   "source": [
    "df_sb = df[df['County Name'] == 'San Bernardino']\n",
    "\n",
    "#Check data types of columns.\n",
    "df_sb.dtypes"
   ]
  },
  {
   "cell_type": "code",
   "execution_count": null,
   "metadata": {},
   "outputs": [],
   "source": [
    "df_sb['date_ordinal'] = pd.to_datetime(df['Most Recent Date']).apply(lambda date: date.toordinal())\n",
    "\n",
    "#Plot scatter plot\n",
    "x = df_sb['date_ordinal']\n",
    "y = df_sb['Total Count Confirmed']\n",
    "\n",
    "plt.figure(figsize=(14,10))\n",
    "ax = plt.subplot(1,1,1)\n",
    "\n",
    "sns.regplot(x='date_ordinal', y='Total Count Confirmed', data=df_sb)\n",
    "\n",
    "# Formatting axes\n",
    "ax.set_xlim(x.min() - 1, x.max() + 10)\n",
    "ax.set_ylim(0, y.max() + 1)\n",
    "ax.set_xlabel('Date')\n",
    "\n",
    "labels = [dt.date.fromordinal(int(item)) for item in ax.get_xticks()]\n",
    "ax.set_xticklabels(labels)\n",
    "plt.xticks(rotation = 45)\n",
    "plt.ylabel(\"Total Confirmed Cases\")\n",
    "\n",
    "#Exponential Curve\n",
    "def exponential_func(x, a, b, c):\n",
    "    return a*np.exp(-b*x)+c\n",
    "\n",
    "popt, pcov = curve_fit(exponential_func, x, y, p0=(1, 1e-6, 1), maxfev=1000000000) \n",
    "plt.plot(x, exponential_func(x, *popt), color='orange')\n",
    "plt.legend(['Linear', 'Exponential'])\n",
    "\n",
    "plt.show()"
   ]
  },
  {
   "cell_type": "markdown",
   "metadata": {},
   "source": [
    "This graph seems to be relatively linear. However, note that there is a slight curve in this data. Since exponential regression displays a near identical trendline to the linear regression line, this will require further investigation with a \"better\" model."
   ]
  },
  {
   "cell_type": "markdown",
   "metadata": {},
   "source": [
    "## New cases per Day\n",
    "\n",
    "It may be easier to see how the outbreak in San Bernardino County is progressing through comparing case increases between days. Essentially, if the new cases per day is increasing, the spread of the virus is accelerating and vicaversa. Note that I'm speaking in generalities and there may be other factors influencing the data."
   ]
  },
  {
   "cell_type": "code",
   "execution_count": null,
   "metadata": {},
   "outputs": [],
   "source": [
    "# Generate column with new cases.\n",
    "\n",
    "lag = df_sb['Total Count Confirmed'].shift(-1)\n",
    "df_sb['New Confirmed Cases'] = df_sb['Total Count Confirmed'] - lag\n",
    "df_sb.head(5)"
   ]
  },
  {
   "cell_type": "code",
   "execution_count": null,
   "metadata": {},
   "outputs": [],
   "source": [
    "# Plotting new cases per day\n",
    "\n",
    "plt.figure(figsize=(14,10))\n",
    "ax = sns.regplot(data=df_sb, x='date_ordinal', y='New Confirmed Cases')\n",
    "\n",
    "# Formatting\n",
    "ax.set_xlim(df_sb['date_ordinal'].min() - 1, df_sb['date_ordinal'].max() + 1)\n",
    "ax.set_ylim(0, df_sb['New Confirmed Cases'].max() + 1)\n",
    "\n",
    "ax.set_xlabel('Date')\n",
    "new_labels = [dt.date.fromordinal(int(item)) for item in ax.get_xticks()]\n",
    "ax.set_xticklabels(new_labels)\n",
    "plt.xticks(rotation = 45)\n",
    "plt.ylabel(\"New Confirmed Cases (per day)\")\n",
    "\n",
    "plt.show()"
   ]
  },
  {
   "cell_type": "markdown",
   "metadata": {},
   "source": [
    "The data suggests a (somewhat tenuous) upward trend in confirmed cases per day in SB county over time. Therefore, the spread of the virus seems to be accelerating.\n",
    "\n",
    "> Add pearson corr.\n",
    "> Add label for when testing increased."
   ]
  }
 ],
 "metadata": {
  "kernelspec": {
   "display_name": "Python 3",
   "language": "python",
   "name": "python3"
  },
  "language_info": {
   "codemirror_mode": {
    "name": "ipython",
    "version": 3
   },
   "file_extension": ".py",
   "mimetype": "text/x-python",
   "name": "python",
   "nbconvert_exporter": "python",
   "pygments_lexer": "ipython3",
   "version": "3.7.6"
  }
 },
 "nbformat": 4,
 "nbformat_minor": 4
}
